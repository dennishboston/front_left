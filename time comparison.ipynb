{
 "cells": [
  {
   "cell_type": "code",
   "execution_count": 86,
   "metadata": {
    "collapsed": true
   },
   "outputs": [],
   "source": [
    "#import urllib2\n",
    "import json\n",
    "import os\n",
    "#import glob\n",
    "import time\n",
    "from datetime import timedelta, date\n",
    "import requests\n",
    "import pandas as pd\n",
    "#from ISStreamer.Streamer import Streamer\n",
    "from datetime import datetime\n"
   ]
  },
  {
   "cell_type": "code",
   "execution_count": 10,
   "metadata": {
    "collapsed": true
   },
   "outputs": [],
   "source": [
    "STATE = \"CA\"\n",
    "CITY = \"San_Francisco\"\n",
    "WUNDERGROUND_API_KEY = \"aa2877982956f024\"\n",
    "BUCKET_NAME = \":partly_sunny: \" + CITY + \" Weather\"\n",
    "BUCKET_KEY = \"wu1\"\n",
    "ACCESS_KEY = \"aa2877982956f024\"\n",
    "STARTDATE = date(2017,12,30)\n",
    "ENDDATE = date(2017,12,31)\n",
    "SECONDS_BETWEEN_SEND = 5"
   ]
  },
  {
   "cell_type": "code",
   "execution_count": 11,
   "metadata": {},
   "outputs": [
    {
     "name": "stdout",
     "output_type": "stream",
     "text": [
      "http://api.wunderground.com/api/aa2877982956f024/history_2017-12-31/q/CA/San_Francisco.json\n"
     ]
    }
   ],
   "source": [
    "api_conditions_url = \"http://api.wunderground.com/api/\" + WUNDERGROUND_API_KEY + \"/history_\" + str(ENDDATE) + \"/q/\" + STATE +\"/\"+ CITY + \".json\"\n",
    "print(api_conditions_url)"
   ]
  },
  {
   "cell_type": "code",
   "execution_count": 51,
   "metadata": {
    "collapsed": true
   },
   "outputs": [],
   "source": [
    "def get_conditions(readDate):\n",
    "    api_conditions_url = \"http://api.wunderground.com/api/\" + WUNDERGROUND_API_KEY + \"/history_\" + readDate + \"/q/\" + STATE +\"/\"+ CITY + \".json\"\n",
    "    try:\n",
    "        #f = urllib2.urlopen(api_conditions_url)\n",
    "        f = requests.get(api_conditions_url).json()\n",
    "        #print(api_conditions_url)\n",
    "        #print(response)\n",
    "    except:\n",
    "        #print(api_conditions_url)\n",
    "        print(\"Failed to get conditions\")\n",
    "        return False\n",
    "    #json_conditions = f.read()\n",
    "    #f.close()\n",
    "    #return json.loads(json_conditions)\n",
    "    return f"
   ]
  },
  {
   "cell_type": "code",
   "execution_count": 44,
   "metadata": {},
   "outputs": [
    {
     "name": "stdout",
     "output_type": "stream",
     "text": [
      "http://api.wunderground.com/api/aa2877982956f024/history_20171230/q/CA/San_Francisco.json\n",
      "{'response': {'version': '0.1', 'termsofService': 'http://www.wunderground.com/weather/api/d/terms.html', 'features': {'history': 1}}, 'history': {'date': {'pretty': 'December 30, 2017', 'year': '2017', 'mon': '12', 'mday': '30', 'hour': '12', 'min': '00', 'tzname': 'America/Los_Angeles'}, 'utcdate': {'pretty': 'December 30, 2017', 'year': '2017', 'mon': '12', 'mday': '30', 'hour': '20', 'min': '00', 'tzname': 'UTC'}, 'observations': [{'date': {'pretty': '12:56 AM PST on December 30, 2017', 'year': '2017', 'mon': '12', 'mday': '30', 'hour': '00', 'min': '56', 'tzname': 'America/Los_Angeles'}, 'utcdate': {'pretty': '8:56 AM GMT on December 30, 2017', 'year': '2017', 'mon': '12', 'mday': '30', 'hour': '08', 'min': '56', 'tzname': 'UTC'}, 'tempm': '8.9', 'tempi': '48.0', 'dewptm': '6.1', 'dewpti': '43.0', 'hum': '83', 'wspdm': '0.0', 'wspdi': '0.0', 'wgustm': '-9999.0', 'wgusti': '-9999.0', 'wdird': '0', 'wdire': 'North', 'vism': '16.1', 'visi': '10.0', 'pressurem': '1020.4', 'pressurei': '30.14', 'windchillm': '-999', 'windchilli': '-999', 'heatindexm': '-9999', 'heatindexi': '-9999', 'precipm': '-9999.00', 'precipi': '-9999.00', 'conds': 'Scattered Clouds', 'icon': 'partlycloudy', 'fog': '0', 'rain': '0', 'snow': '0', 'hail': '0', 'thunder': '0', 'tornado': '0', 'metar': 'METAR KSFO 300856Z 00000KT 10SM SCT200 09/06 A3014 RMK AO2 SLP204 T00890061 58004'}, {'date': {'pretty': '1:56 AM PST on December 30, 2017', 'year': '2017', 'mon': '12', 'mday': '30', 'hour': '01', 'min': '56', 'tzname': 'America/Los_Angeles'}, 'utcdate': {'pretty': '9:56 AM GMT on December 30, 2017', 'year': '2017', 'mon': '12', 'mday': '30', 'hour': '09', 'min': '56', 'tzname': 'UTC'}, 'tempm': '10.0', 'tempi': '50.0', 'dewptm': '7.8', 'dewpti': '46.0', 'hum': '86', 'wspdm': '9.3', 'wspdi': '5.8', 'wgustm': '-9999.0', 'wgusti': '-9999.0', 'wdird': '20', 'wdire': 'NNE', 'vism': '12.9', 'visi': '8.0', 'pressurem': '1020.7', 'pressurei': '30.14', 'windchillm': '-999', 'windchilli': '-999', 'heatindexm': '-9999', 'heatindexi': '-9999', 'precipm': '-9999.00', 'precipi': '-9999.00', 'conds': 'Scattered Clouds', 'icon': 'partlycloudy', 'fog': '0', 'rain': '0', 'snow': '0', 'hail': '0', 'thunder': '0', 'tornado': '0', 'metar': 'METAR KSFO 300956Z COR 02005KT 8SM SCT200 10/08 A3014 RMK AO2 SLP207 T01000078'}, {'date': {'pretty': '2:56 AM PST on December 30, 2017', 'year': '2017', 'mon': '12', 'mday': '30', 'hour': '02', 'min': '56', 'tzname': 'America/Los_Angeles'}, 'utcdate': {'pretty': '10:56 AM GMT on December 30, 2017', 'year': '2017', 'mon': '12', 'mday': '30', 'hour': '10', 'min': '56', 'tzname': 'UTC'}, 'tempm': '10.0', 'tempi': '50.0', 'dewptm': '7.8', 'dewpti': '46.0', 'hum': '86', 'wspdm': '9.3', 'wspdi': '5.8', 'wgustm': '-9999.0', 'wgusti': '-9999.0', 'wdird': '40', 'wdire': 'NE', 'vism': '9.7', 'visi': '6.0', 'pressurem': '1020.6', 'pressurei': '30.14', 'windchillm': '-999', 'windchilli': '-999', 'heatindexm': '-9999', 'heatindexi': '-9999', 'precipm': '-9999.00', 'precipi': '-9999.00', 'conds': 'Scattered Clouds', 'icon': 'partlycloudy', 'fog': '0', 'rain': '0', 'snow': '0', 'hail': '0', 'thunder': '0', 'tornado': '0', 'metar': 'METAR KSFO 301056Z 04005KT 6SM BR SCT200 10/08 A3014 RMK AO2 SLP206 T01000078'}, {'date': {'pretty': '3:56 AM PST on December 30, 2017', 'year': '2017', 'mon': '12', 'mday': '30', 'hour': '03', 'min': '56', 'tzname': 'America/Los_Angeles'}, 'utcdate': {'pretty': '11:56 AM GMT on December 30, 2017', 'year': '2017', 'mon': '12', 'mday': '30', 'hour': '11', 'min': '56', 'tzname': 'UTC'}, 'tempm': '7.2', 'tempi': '45.0', 'dewptm': '6.1', 'dewpti': '43.0', 'hum': '93', 'wspdm': '0.0', 'wspdi': '0.0', 'wgustm': '-9999.0', 'wgusti': '-9999.0', 'wdird': '0', 'wdire': 'North', 'vism': '8.0', 'visi': '5.0', 'pressurem': '1020.2', 'pressurei': '30.13', 'windchillm': '-999', 'windchilli': '-999', 'heatindexm': '-9999', 'heatindexi': '-9999', 'precipm': '-9999.00', 'precipi': '-9999.00', 'conds': 'Scattered Clouds', 'icon': 'partlycloudy', 'fog': '0', 'rain': '0', 'snow': '0', 'hail': '0', 'thunder': '0', 'tornado': '0', 'metar': 'METAR KSFO 301156Z 00000KT 5SM BR SCT200 07/06 A3013 RMK AO2 SLP202 T00720061 10117 20072 58002'}, {'date': {'pretty': '4:56 AM PST on December 30, 2017', 'year': '2017', 'mon': '12', 'mday': '30', 'hour': '04', 'min': '56', 'tzname': 'America/Los_Angeles'}, 'utcdate': {'pretty': '12:56 PM GMT on December 30, 2017', 'year': '2017', 'mon': '12', 'mday': '30', 'hour': '12', 'min': '56', 'tzname': 'UTC'}, 'tempm': '8.3', 'tempi': '46.9', 'dewptm': '6.7', 'dewpti': '44.1', 'hum': '90', 'wspdm': '5.6', 'wspdi': '3.5', 'wgustm': '-9999.0', 'wgusti': '-9999.0', 'wdird': '360', 'wdire': 'North', 'vism': '8.0', 'visi': '5.0', 'pressurem': '1019.9', 'pressurei': '30.12', 'windchillm': '-999', 'windchilli': '-999', 'heatindexm': '-9999', 'heatindexi': '-9999', 'precipm': '-9999.00', 'precipi': '-9999.00', 'conds': 'Scattered Clouds', 'icon': 'partlycloudy', 'fog': '0', 'rain': '0', 'snow': '0', 'hail': '0', 'thunder': '0', 'tornado': '0', 'metar': 'METAR KSFO 301256Z 36003KT 5SM BR SCT200 08/07 A3012 RMK AO2 SLP199 T00830067'}, {'date': {'pretty': '5:56 AM PST on December 30, 2017', 'year': '2017', 'mon': '12', 'mday': '30', 'hour': '05', 'min': '56', 'tzname': 'America/Los_Angeles'}, 'utcdate': {'pretty': '1:56 PM GMT on December 30, 2017', 'year': '2017', 'mon': '12', 'mday': '30', 'hour': '13', 'min': '56', 'tzname': 'UTC'}, 'tempm': '7.8', 'tempi': '46.0', 'dewptm': '6.1', 'dewpti': '43.0', 'hum': '89', 'wspdm': '7.4', 'wspdi': '4.6', 'wgustm': '-9999.0', 'wgusti': '-9999.0', 'wdird': '170', 'wdire': 'South', 'vism': '8.0', 'visi': '5.0', 'pressurem': '1020.0', 'pressurei': '30.12', 'windchillm': '6.6', 'windchilli': '43.9', 'heatindexm': '-9999', 'heatindexi': '-9999', 'precipm': '-9999.00', 'precipi': '-9999.00', 'conds': 'Scattered Clouds', 'icon': 'partlycloudy', 'fog': '0', 'rain': '0', 'snow': '0', 'hail': '0', 'thunder': '0', 'tornado': '0', 'metar': 'METAR KSFO 301356Z 17004KT 5SM BR SCT200 08/06 A3012 RMK AO2 SLP200 T00780061'}, {'date': {'pretty': '6:56 AM PST on December 30, 2017', 'year': '2017', 'mon': '12', 'mday': '30', 'hour': '06', 'min': '56', 'tzname': 'America/Los_Angeles'}, 'utcdate': {'pretty': '2:56 PM GMT on December 30, 2017', 'year': '2017', 'mon': '12', 'mday': '30', 'hour': '14', 'min': '56', 'tzname': 'UTC'}, 'tempm': '7.2', 'tempi': '45.0', 'dewptm': '6.1', 'dewpti': '43.0', 'hum': '93', 'wspdm': '5.6', 'wspdi': '3.5', 'wgustm': '-9999.0', 'wgusti': '-9999.0', 'wdird': '150', 'wdire': 'SSE', 'vism': '11.3', 'visi': '7.0', 'pressurem': '1020.0', 'pressurei': '30.12', 'windchillm': '6.4', 'windchilli': '43.5', 'heatindexm': '-9999', 'heatindexi': '-9999', 'precipm': '-9999.00', 'precipi': '-9999.00', 'conds': 'Mostly Cloudy', 'icon': 'mostlycloudy', 'fog': '0', 'rain': '0', 'snow': '0', 'hail': '0', 'thunder': '0', 'tornado': '0', 'metar': 'METAR KSFO 301456Z 15003KT 7SM FEW180 BKN200 07/06 A3012 RMK AO2 SLP200 T00720061 56002'}, {'date': {'pretty': '7:56 AM PST on December 30, 2017', 'year': '2017', 'mon': '12', 'mday': '30', 'hour': '07', 'min': '56', 'tzname': 'America/Los_Angeles'}, 'utcdate': {'pretty': '3:56 PM GMT on December 30, 2017', 'year': '2017', 'mon': '12', 'mday': '30', 'hour': '15', 'min': '56', 'tzname': 'UTC'}, 'tempm': '7.8', 'tempi': '46.0', 'dewptm': '6.1', 'dewpti': '43.0', 'hum': '89', 'wspdm': '0.0', 'wspdi': '0.0', 'wgustm': '-9999.0', 'wgusti': '-9999.0', 'wdird': '0', 'wdire': 'North', 'vism': '12.9', 'visi': '8.0', 'pressurem': '1020.2', 'pressurei': '30.13', 'windchillm': '-999', 'windchilli': '-999', 'heatindexm': '-9999', 'heatindexi': '-9999', 'precipm': '-9999.00', 'precipi': '-9999.00', 'conds': 'Scattered Clouds', 'icon': 'partlycloudy', 'fog': '0', 'rain': '0', 'snow': '0', 'hail': '0', 'thunder': '0', 'tornado': '0', 'metar': 'METAR KSFO 301556Z 00000KT 8SM FEW160 SCT200 08/06 A3013 RMK AO2 SLP202 T00780061'}, {'date': {'pretty': '8:56 AM PST on December 30, 2017', 'year': '2017', 'mon': '12', 'mday': '30', 'hour': '08', 'min': '56', 'tzname': 'America/Los_Angeles'}, 'utcdate': {'pretty': '4:56 PM GMT on December 30, 2017', 'year': '2017', 'mon': '12', 'mday': '30', 'hour': '16', 'min': '56', 'tzname': 'UTC'}, 'tempm': '9.4', 'tempi': '48.9', 'dewptm': '7.8', 'dewpti': '46.0', 'hum': '90', 'wspdm': '0.0', 'wspdi': '0.0', 'wgustm': '-9999.0', 'wgusti': '-9999.0', 'wdird': '0', 'wdire': 'North', 'vism': '11.3', 'visi': '7.0', 'pressurem': '1020.3', 'pressurei': '30.13', 'windchillm': '-999', 'windchilli': '-999', 'heatindexm': '-9999', 'heatindexi': '-9999', 'precipm': '-9999.00', 'precipi': '-9999.00', 'conds': 'Mostly Cloudy', 'icon': 'mostlycloudy', 'fog': '0', 'rain': '0', 'snow': '0', 'hail': '0', 'thunder': '0', 'tornado': '0', 'metar': 'METAR KSFO 301656Z 00000KT 7SM FEW160 BKN200 09/08 A3013 RMK AO2 SLP203 T00940078'}, {'date': {'pretty': '9:56 AM PST on December 30, 2017', 'year': '2017', 'mon': '12', 'mday': '30', 'hour': '09', 'min': '56', 'tzname': 'America/Los_Angeles'}, 'utcdate': {'pretty': '5:56 PM GMT on December 30, 2017', 'year': '2017', 'mon': '12', 'mday': '30', 'hour': '17', 'min': '56', 'tzname': 'UTC'}, 'tempm': '10.6', 'tempi': '51.1', 'dewptm': '8.3', 'dewpti': '46.9', 'hum': '86', 'wspdm': '5.6', 'wspdi': '3.5', 'wgustm': '-9999.0', 'wgusti': '-9999.0', 'wdird': '150', 'wdire': 'SSE', 'vism': '11.3', 'visi': '7.0', 'pressurem': '1020.6', 'pressurei': '30.14', 'windchillm': '-999', 'windchilli': '-999', 'heatindexm': '-9999', 'heatindexi': '-9999', 'precipm': '-9999.00', 'precipi': '-9999.00', 'conds': 'Mostly Cloudy', 'icon': 'mostlycloudy', 'fog': '0', 'rain': '0', 'snow': '0', 'hail': '0', 'thunder': '0', 'tornado': '0', 'metar': 'METAR KSFO 301756Z 15003KT 7SM FEW150 BKN200 11/08 A3014 RMK AO2 SLP206 T01060083 10106 20061 53006'}, {'date': {'pretty': '10:56 AM PST on December 30, 2017', 'year': '2017', 'mon': '12', 'mday': '30', 'hour': '10', 'min': '56', 'tzname': 'America/Los_Angeles'}, 'utcdate': {'pretty': '6:56 PM GMT on December 30, 2017', 'year': '2017', 'mon': '12', 'mday': '30', 'hour': '18', 'min': '56', 'tzname': 'UTC'}, 'tempm': '11.7', 'tempi': '53.1', 'dewptm': '8.3', 'dewpti': '46.9', 'hum': '80', 'wspdm': '5.6', 'wspdi': '3.5', 'wgustm': '-9999.0', 'wgusti': '-9999.0', 'wdird': '90', 'wdire': 'East', 'vism': '11.3', 'visi': '7.0', 'pressurem': '1020.3', 'pressurei': '30.13', 'windchillm': '-999', 'windchilli': '-999', 'heatindexm': '-9999', 'heatindexi': '-9999', 'precipm': '-9999.00', 'precipi': '-9999.00', 'conds': 'Mostly Cloudy', 'icon': 'mostlycloudy', 'fog': '0', 'rain': '0', 'snow': '0', 'hail': '0', 'thunder': '0', 'tornado': '0', 'metar': 'METAR KSFO 301856Z 09003KT 7SM FEW150 BKN200 12/08 A3013 RMK AO2 SLP203 T01170083'}, {'date': {'pretty': '11:56 AM PST on December 30, 2017', 'year': '2017', 'mon': '12', 'mday': '30', 'hour': '11', 'min': '56', 'tzname': 'America/Los_Angeles'}, 'utcdate': {'pretty': '7:56 PM GMT on December 30, 2017', 'year': '2017', 'mon': '12', 'mday': '30', 'hour': '19', 'min': '56', 'tzname': 'UTC'}, 'tempm': '12.2', 'tempi': '54.0', 'dewptm': '8.3', 'dewpti': '46.9', 'hum': '77', 'wspdm': '7.4', 'wspdi': '4.6', 'wgustm': '-9999.0', 'wgusti': '-9999.0', 'wdird': '20', 'wdire': 'NNE', 'vism': '11.3', 'visi': '7.0', 'pressurem': '1019.1', 'pressurei': '30.10', 'windchillm': '-999', 'windchilli': '-999', 'heatindexm': '-9999', 'heatindexi': '-9999', 'precipm': '-9999.00', 'precipi': '-9999.00', 'conds': 'Mostly Cloudy', 'icon': 'mostlycloudy', 'fog': '0', 'rain': '0', 'snow': '0', 'hail': '0', 'thunder': '0', 'tornado': '0', 'metar': 'METAR KSFO 301956Z 02004KT 7SM FEW160 BKN200 12/08 A3010 RMK AO2 SLP191 T01220083'}, {'date': {'pretty': '12:56 PM PST on December 30, 2017', 'year': '2017', 'mon': '12', 'mday': '30', 'hour': '12', 'min': '56', 'tzname': 'America/Los_Angeles'}, 'utcdate': {'pretty': '8:56 PM GMT on December 30, 2017', 'year': '2017', 'mon': '12', 'mday': '30', 'hour': '20', 'min': '56', 'tzname': 'UTC'}, 'tempm': '12.2', 'tempi': '54.0', 'dewptm': '7.8', 'dewpti': '46.0', 'hum': '75', 'wspdm': '5.6', 'wspdi': '3.5', 'wgustm': '-9999.0', 'wgusti': '-9999.0', 'wdird': '360', 'wdire': 'North', 'vism': '11.3', 'visi': '7.0', 'pressurem': '1018.3', 'pressurei': '30.07', 'windchillm': '-999', 'windchilli': '-999', 'heatindexm': '-9999', 'heatindexi': '-9999', 'precipm': '-9999.00', 'precipi': '-9999.00', 'conds': 'Mostly Cloudy', 'icon': 'mostlycloudy', 'fog': '0', 'rain': '0', 'snow': '0', 'hail': '0', 'thunder': '0', 'tornado': '0', 'metar': 'METAR KSFO 302056Z 36003KT 7SM FEW170 BKN200 12/08 A3007 RMK AO2 SLP183 T01220078 58023'}, {'date': {'pretty': '1:56 PM PST on December 30, 2017', 'year': '2017', 'mon': '12', 'mday': '30', 'hour': '13', 'min': '56', 'tzname': 'America/Los_Angeles'}, 'utcdate': {'pretty': '9:56 PM GMT on December 30, 2017', 'year': '2017', 'mon': '12', 'mday': '30', 'hour': '21', 'min': '56', 'tzname': 'UTC'}, 'tempm': '13.9', 'tempi': '57.0', 'dewptm': '7.8', 'dewpti': '46.0', 'hum': '67', 'wspdm': '0.0', 'wspdi': '0.0', 'wgustm': '-9999.0', 'wgusti': '-9999.0', 'wdird': '0', 'wdire': 'North', 'vism': '11.3', 'visi': '7.0', 'pressurem': '1017.6', 'pressurei': '30.05', 'windchillm': '-999', 'windchilli': '-999', 'heatindexm': '-9999', 'heatindexi': '-9999', 'precipm': '-9999.00', 'precipi': '-9999.00', 'conds': 'Mostly Cloudy', 'icon': 'mostlycloudy', 'fog': '0', 'rain': '0', 'snow': '0', 'hail': '0', 'thunder': '0', 'tornado': '0', 'metar': 'METAR KSFO 302156Z 00000KT 7SM FEW170 BKN200 14/08 A3005 RMK AO2 SLP176 T01390078'}, {'date': {'pretty': '2:56 PM PST on December 30, 2017', 'year': '2017', 'mon': '12', 'mday': '30', 'hour': '14', 'min': '56', 'tzname': 'America/Los_Angeles'}, 'utcdate': {'pretty': '10:56 PM GMT on December 30, 2017', 'year': '2017', 'mon': '12', 'mday': '30', 'hour': '22', 'min': '56', 'tzname': 'UTC'}, 'tempm': '12.8', 'tempi': '55.0', 'dewptm': '7.2', 'dewpti': '45.0', 'hum': '69', 'wspdm': '0.0', 'wspdi': '0.0', 'wgustm': '-9999.0', 'wgusti': '-9999.0', 'wdird': '0', 'wdire': 'North', 'vism': '16.1', 'visi': '10.0', 'pressurem': '1017.1', 'pressurei': '30.04', 'windchillm': '-999', 'windchilli': '-999', 'heatindexm': '-9999', 'heatindexi': '-9999', 'precipm': '-9999.00', 'precipi': '-9999.00', 'conds': 'Mostly Cloudy', 'icon': 'mostlycloudy', 'fog': '0', 'rain': '0', 'snow': '0', 'hail': '0', 'thunder': '0', 'tornado': '0', 'metar': 'METAR KSFO 302256Z 00000KT 10SM BKN200 13/07 A3004 RMK AO2 SLP171 T01280072'}, {'date': {'pretty': '3:56 PM PST on December 30, 2017', 'year': '2017', 'mon': '12', 'mday': '30', 'hour': '15', 'min': '56', 'tzname': 'America/Los_Angeles'}, 'utcdate': {'pretty': '11:56 PM GMT on December 30, 2017', 'year': '2017', 'mon': '12', 'mday': '30', 'hour': '23', 'min': '56', 'tzname': 'UTC'}, 'tempm': '14.4', 'tempi': '57.9', 'dewptm': '7.2', 'dewpti': '45.0', 'hum': '62', 'wspdm': '5.6', 'wspdi': '3.5', 'wgustm': '-9999.0', 'wgusti': '-9999.0', 'wdird': '160', 'wdire': 'SSE', 'vism': '16.1', 'visi': '10.0', 'pressurem': '1016.6', 'pressurei': '30.02', 'windchillm': '-999', 'windchilli': '-999', 'heatindexm': '-9999', 'heatindexi': '-9999', 'precipm': '-9999.00', 'precipi': '-9999.00', 'conds': 'Mostly Cloudy', 'icon': 'mostlycloudy', 'fog': '0', 'rain': '0', 'snow': '0', 'hail': '0', 'thunder': '0', 'tornado': '0', 'metar': 'METAR KSFO 302356Z 16003KT 10SM BKN200 14/07 A3002 RMK AO2 SLP166 T01440072 10144 20106 56016'}, {'date': {'pretty': '4:56 PM PST on December 30, 2017', 'year': '2017', 'mon': '12', 'mday': '30', 'hour': '16', 'min': '56', 'tzname': 'America/Los_Angeles'}, 'utcdate': {'pretty': '12:56 AM GMT on December 31, 2017', 'year': '2017', 'mon': '12', 'mday': '31', 'hour': '00', 'min': '56', 'tzname': 'UTC'}, 'tempm': '12.2', 'tempi': '54.0', 'dewptm': '7.2', 'dewpti': '45.0', 'hum': '72', 'wspdm': '5.6', 'wspdi': '3.5', 'wgustm': '-9999.0', 'wgusti': '-9999.0', 'wdird': '90', 'wdire': 'East', 'vism': '16.1', 'visi': '10.0', 'pressurem': '1016.6', 'pressurei': '30.02', 'windchillm': '-999', 'windchilli': '-999', 'heatindexm': '-9999', 'heatindexi': '-9999', 'precipm': '-9999.00', 'precipi': '-9999.00', 'conds': 'Mostly Cloudy', 'icon': 'mostlycloudy', 'fog': '0', 'rain': '0', 'snow': '0', 'hail': '0', 'thunder': '0', 'tornado': '0', 'metar': 'METAR KSFO 310056Z 09003KT 10SM BKN200 12/07 A3002 RMK AO2 SLP166 T01220072'}, {'date': {'pretty': '5:56 PM PST on December 30, 2017', 'year': '2017', 'mon': '12', 'mday': '30', 'hour': '17', 'min': '56', 'tzname': 'America/Los_Angeles'}, 'utcdate': {'pretty': '1:56 AM GMT on December 31, 2017', 'year': '2017', 'mon': '12', 'mday': '31', 'hour': '01', 'min': '56', 'tzname': 'UTC'}, 'tempm': '12.8', 'tempi': '55.0', 'dewptm': '6.7', 'dewpti': '44.1', 'hum': '67', 'wspdm': '5.6', 'wspdi': '3.5', 'wgustm': '-9999.0', 'wgusti': '-9999.0', 'wdird': '150', 'wdire': 'SSE', 'vism': '16.1', 'visi': '10.0', 'pressurem': '1016.7', 'pressurei': '30.03', 'windchillm': '-999', 'windchilli': '-999', 'heatindexm': '-9999', 'heatindexi': '-9999', 'precipm': '-9999.00', 'precipi': '-9999.00', 'conds': 'Mostly Cloudy', 'icon': 'mostlycloudy', 'fog': '0', 'rain': '0', 'snow': '0', 'hail': '0', 'thunder': '0', 'tornado': '0', 'metar': 'METAR KSFO 310156Z 15003KT 10SM BKN200 13/07 A3003 RMK AO2 SLP167 T01280067'}, {'date': {'pretty': '6:56 PM PST on December 30, 2017', 'year': '2017', 'mon': '12', 'mday': '30', 'hour': '18', 'min': '56', 'tzname': 'America/Los_Angeles'}, 'utcdate': {'pretty': '2:56 AM GMT on December 31, 2017', 'year': '2017', 'mon': '12', 'mday': '31', 'hour': '02', 'min': '56', 'tzname': 'UTC'}, 'tempm': '12.2', 'tempi': '54.0', 'dewptm': '7.2', 'dewpti': '45.0', 'hum': '72', 'wspdm': '0.0', 'wspdi': '0.0', 'wgustm': '-9999.0', 'wgusti': '-9999.0', 'wdird': '0', 'wdire': 'North', 'vism': '16.1', 'visi': '10.0', 'pressurem': '1017.0', 'pressurei': '30.04', 'windchillm': '-999', 'windchilli': '-999', 'heatindexm': '-9999', 'heatindexi': '-9999', 'precipm': '-9999.00', 'precipi': '-9999.00', 'conds': 'Mostly Cloudy', 'icon': 'mostlycloudy', 'fog': '0', 'rain': '0', 'snow': '0', 'hail': '0', 'thunder': '0', 'tornado': '0', 'metar': 'METAR KSFO 310256Z 00000KT 10SM BKN200 12/07 A3003 RMK AO2 SLP170 T01220072 53004'}, {'date': {'pretty': '7:56 PM PST on December 30, 2017', 'year': '2017', 'mon': '12', 'mday': '30', 'hour': '19', 'min': '56', 'tzname': 'America/Los_Angeles'}, 'utcdate': {'pretty': '3:56 AM GMT on December 31, 2017', 'year': '2017', 'mon': '12', 'mday': '31', 'hour': '03', 'min': '56', 'tzname': 'UTC'}, 'tempm': '11.1', 'tempi': '52.0', 'dewptm': '7.2', 'dewpti': '45.0', 'hum': '77', 'wspdm': '0.0', 'wspdi': '0.0', 'wgustm': '-9999.0', 'wgusti': '-9999.0', 'wdird': '0', 'wdire': 'North', 'vism': '16.1', 'visi': '10.0', 'pressurem': '1016.8', 'pressurei': '30.03', 'windchillm': '-999', 'windchilli': '-999', 'heatindexm': '-9999', 'heatindexi': '-9999', 'precipm': '-9999.00', 'precipi': '-9999.00', 'conds': 'Mostly Cloudy', 'icon': 'mostlycloudy', 'fog': '0', 'rain': '0', 'snow': '0', 'hail': '0', 'thunder': '0', 'tornado': '0', 'metar': 'METAR KSFO 310356Z 00000KT 10SM BKN200 11/07 A3003 RMK AO2 SLP168 T01110072'}, {'date': {'pretty': '8:56 PM PST on December 30, 2017', 'year': '2017', 'mon': '12', 'mday': '30', 'hour': '20', 'min': '56', 'tzname': 'America/Los_Angeles'}, 'utcdate': {'pretty': '4:56 AM GMT on December 31, 2017', 'year': '2017', 'mon': '12', 'mday': '31', 'hour': '04', 'min': '56', 'tzname': 'UTC'}, 'tempm': '11.1', 'tempi': '52.0', 'dewptm': '6.7', 'dewpti': '44.1', 'hum': '74', 'wspdm': '5.6', 'wspdi': '3.5', 'wgustm': '-9999.0', 'wgusti': '-9999.0', 'wdird': '160', 'wdire': 'SSE', 'vism': '16.1', 'visi': '10.0', 'pressurem': '1016.9', 'pressurei': '30.03', 'windchillm': '-999', 'windchilli': '-999', 'heatindexm': '-9999', 'heatindexi': '-9999', 'precipm': '-9999.00', 'precipi': '-9999.00', 'conds': 'Scattered Clouds', 'icon': 'partlycloudy', 'fog': '0', 'rain': '0', 'snow': '0', 'hail': '0', 'thunder': '0', 'tornado': '0', 'metar': 'METAR KSFO 310456Z 16003KT 10SM SCT200 11/07 A3003 RMK AO2 SLP169 T01110067'}, {'date': {'pretty': '9:56 PM PST on December 30, 2017', 'year': '2017', 'mon': '12', 'mday': '30', 'hour': '21', 'min': '56', 'tzname': 'America/Los_Angeles'}, 'utcdate': {'pretty': '5:56 AM GMT on December 31, 2017', 'year': '2017', 'mon': '12', 'mday': '31', 'hour': '05', 'min': '56', 'tzname': 'UTC'}, 'tempm': '10.6', 'tempi': '51.1', 'dewptm': '6.1', 'dewpti': '43.0', 'hum': '74', 'wspdm': '0.0', 'wspdi': '0.0', 'wgustm': '-9999.0', 'wgusti': '-9999.0', 'wdird': '0', 'wdire': 'North', 'vism': '16.1', 'visi': '10.0', 'pressurem': '1017.2', 'pressurei': '30.04', 'windchillm': '-999', 'windchilli': '-999', 'heatindexm': '-9999', 'heatindexi': '-9999', 'precipm': '-9999.00', 'precipi': '-9999.00', 'conds': 'Scattered Clouds', 'icon': 'partlycloudy', 'fog': '0', 'rain': '0', 'snow': '0', 'hail': '0', 'thunder': '0', 'tornado': '0', 'metar': 'METAR KSFO 310556Z 00000KT 10SM SCT200 11/06 A3004 RMK AO2 SLP172 T01060061 10150 20106 53002'}, {'date': {'pretty': '10:56 PM PST on December 30, 2017', 'year': '2017', 'mon': '12', 'mday': '30', 'hour': '22', 'min': '56', 'tzname': 'America/Los_Angeles'}, 'utcdate': {'pretty': '6:56 AM GMT on December 31, 2017', 'year': '2017', 'mon': '12', 'mday': '31', 'hour': '06', 'min': '56', 'tzname': 'UTC'}, 'tempm': '10.6', 'tempi': '51.1', 'dewptm': '7.8', 'dewpti': '46.0', 'hum': '83', 'wspdm': '5.6', 'wspdi': '3.5', 'wgustm': '-9999.0', 'wgusti': '-9999.0', 'wdird': '20', 'wdire': 'NNE', 'vism': '14.5', 'visi': '9.0', 'pressurem': '1017.4', 'pressurei': '30.05', 'windchillm': '-999', 'windchilli': '-999', 'heatindexm': '-9999', 'heatindexi': '-9999', 'precipm': '-9999.00', 'precipi': '-9999.00', 'conds': 'Scattered Clouds', 'icon': 'partlycloudy', 'fog': '0', 'rain': '0', 'snow': '0', 'hail': '0', 'thunder': '0', 'tornado': '0', 'metar': 'METAR KSFO 310656Z 02003KT 9SM SCT200 11/08 A3005 RMK AO2 SLP174 T01060078'}, {'date': {'pretty': '11:56 PM PST on December 30, 2017', 'year': '2017', 'mon': '12', 'mday': '30', 'hour': '23', 'min': '56', 'tzname': 'America/Los_Angeles'}, 'utcdate': {'pretty': '7:56 AM GMT on December 31, 2017', 'year': '2017', 'mon': '12', 'mday': '31', 'hour': '07', 'min': '56', 'tzname': 'UTC'}, 'tempm': '8.9', 'tempi': '48.0', 'dewptm': '6.1', 'dewpti': '43.0', 'hum': '83', 'wspdm': '5.6', 'wspdi': '3.5', 'wgustm': '-9999.0', 'wgusti': '-9999.0', 'wdird': '180', 'wdire': 'South', 'vism': '12.9', 'visi': '8.0', 'pressurem': '1017.3', 'pressurei': '30.04', 'windchillm': '-999', 'windchilli': '-999', 'heatindexm': '-9999', 'heatindexi': '-9999', 'precipm': '-9999.00', 'precipi': '-9999.00', 'conds': 'Scattered Clouds', 'icon': 'partlycloudy', 'fog': '0', 'rain': '0', 'snow': '0', 'hail': '0', 'thunder': '0', 'tornado': '0', 'metar': 'METAR KSFO 310756Z 18003KT 8SM SCT200 09/06 A3004 RMK AO2 SLP173 T00890061 401500061'}], 'dailysummary': [{'date': {'pretty': '12:00 PM PST on December 30, 2017', 'year': '2017', 'mon': '12', 'mday': '30', 'hour': '12', 'min': '00', 'tzname': 'America/Los_Angeles'}, 'fog': '0', 'rain': '0', 'snow': '0', 'snowfallm': '0.00', 'snowfalli': '0.00', 'monthtodatesnowfallm': '0.00', 'monthtodatesnowfalli': '0.00', 'since1julsnowfallm': '0.00', 'since1julsnowfalli': '0.00', 'snowdepthm': '', 'snowdepthi': '', 'hail': '0', 'thunder': '0', 'tornado': '0', 'meantempm': '11', 'meantempi': '51', 'meandewptm': '7', 'meandewpti': '45', 'meanpressurem': '1019', 'meanpressurei': '30.08', 'meanwindspdm': '4', 'meanwindspdi': '2', 'meanwdire': '', 'meanwdird': '98', 'meanvism': '13', 'meanvisi': '8', 'humidity': '', 'maxtempm': '15', 'maxtempi': '59', 'mintempm': '6', 'mintempi': '43', 'maxhumidity': '93', 'minhumidity': '62', 'maxdewptm': '8', 'maxdewpti': '47', 'mindewptm': '6', 'mindewpti': '43', 'maxpressurem': '1021', 'maxpressurei': '30.14', 'minpressurem': '1016', 'minpressurei': '30.02', 'maxwspdm': '11', 'maxwspdi': '7', 'minwspdm': '0', 'minwspdi': '0', 'maxvism': '16', 'maxvisi': '10', 'minvism': '8', 'minvisi': '5', 'gdegreedays': '1', 'heatingdegreedays': '14', 'coolingdegreedays': '0', 'precipm': '0.00', 'precipi': '0.00', 'precipsource': '', 'heatingdegreedaysnormal': '15', 'monthtodateheatingdegreedays': '385', 'monthtodateheatingdegreedaysnormal': '430', 'since1sepheatingdegreedays': '', 'since1sepheatingdegreedaysnormal': '', 'since1julheatingdegreedays': '724', 'since1julheatingdegreedaysnormal': '994', 'coolingdegreedaysnormal': '0', 'monthtodatecoolingdegreedays': '0', 'monthtodatecoolingdegreedaysnormal': '0', 'since1sepcoolingdegreedays': '', 'since1sepcoolingdegreedaysnormal': '', 'since1jancoolingdegreedays': '346', 'since1jancoolingdegreedaysnormal': '164'}]}}\n"
     ]
    },
    {
     "ename": "NameError",
     "evalue": "name 'f' is not defined",
     "output_type": "error",
     "traceback": [
      "\u001b[1;31m---------------------------------------------------------------------------\u001b[0m",
      "\u001b[1;31mNameError\u001b[0m                                 Traceback (most recent call last)",
      "\u001b[1;32m<ipython-input-44-d3ce6c4ff66b>\u001b[0m in \u001b[0;36m<module>\u001b[1;34m()\u001b[0m\n\u001b[1;32m----> 1\u001b[1;33m \u001b[0mresults\u001b[0m \u001b[1;33m=\u001b[0m \u001b[0mget_conditions\u001b[0m\u001b[1;33m(\u001b[0m\u001b[0mSTARTDATE\u001b[0m\u001b[1;33m.\u001b[0m\u001b[0mstrftime\u001b[0m\u001b[1;33m(\u001b[0m\u001b[1;34m\"%Y%m%d\"\u001b[0m\u001b[1;33m)\u001b[0m\u001b[1;33m)\u001b[0m\u001b[1;33m\u001b[0m\u001b[0m\n\u001b[0m\u001b[0;32m      2\u001b[0m \u001b[0mprint\u001b[0m\u001b[1;33m(\u001b[0m\u001b[0mresults\u001b[0m\u001b[1;33m)\u001b[0m\u001b[1;33m\u001b[0m\u001b[0m\n",
      "\u001b[1;32m<ipython-input-43-01d1e4b4ed40>\u001b[0m in \u001b[0;36mget_conditions\u001b[1;34m(readDate)\u001b[0m\n\u001b[0;32m     10\u001b[0m         \u001b[0mprint\u001b[0m\u001b[1;33m(\u001b[0m\u001b[1;34m\"Failed to get conditions\"\u001b[0m\u001b[1;33m)\u001b[0m\u001b[1;33m\u001b[0m\u001b[0m\n\u001b[0;32m     11\u001b[0m         \u001b[1;32mreturn\u001b[0m \u001b[1;32mFalse\u001b[0m\u001b[1;33m\u001b[0m\u001b[0m\n\u001b[1;32m---> 12\u001b[1;33m     \u001b[0mjson_conditions\u001b[0m \u001b[1;33m=\u001b[0m \u001b[0mf\u001b[0m\u001b[1;33m.\u001b[0m\u001b[0mread\u001b[0m\u001b[1;33m(\u001b[0m\u001b[1;33m)\u001b[0m\u001b[1;33m\u001b[0m\u001b[0m\n\u001b[0m\u001b[0;32m     13\u001b[0m     \u001b[0mf\u001b[0m\u001b[1;33m.\u001b[0m\u001b[0mclose\u001b[0m\u001b[1;33m(\u001b[0m\u001b[1;33m)\u001b[0m\u001b[1;33m\u001b[0m\u001b[0m\n\u001b[0;32m     14\u001b[0m     \u001b[1;32mreturn\u001b[0m \u001b[0mjson\u001b[0m\u001b[1;33m.\u001b[0m\u001b[0mloads\u001b[0m\u001b[1;33m(\u001b[0m\u001b[0mjson_conditions\u001b[0m\u001b[1;33m)\u001b[0m\u001b[1;33m\u001b[0m\u001b[0m\n",
      "\u001b[1;31mNameError\u001b[0m: name 'f' is not defined"
     ]
    }
   ],
   "source": [
    "results = get_conditions(STARTDATE.strftime(\"%Y%m%d\"))\n",
    "print(results)"
   ]
  },
  {
   "cell_type": "code",
   "execution_count": 102,
   "metadata": {},
   "outputs": [],
   "source": [
    "response = requests.get(api_conditions_url).json()"
   ]
  },
  {
   "cell_type": "code",
   "execution_count": 137,
   "metadata": {},
   "outputs": [
    {
     "name": "stdout",
     "output_type": "stream",
     "text": [
      "2017-12-30T00:56:00.000Z\n",
      "2017-12-30T01:56:00.000Z\n",
      "2017-12-30T02:56:00.000Z\n",
      "2017-12-30T03:56:00.000Z\n",
      "2017-12-30T04:56:00.000Z\n",
      "2017-12-30T05:56:00.000Z\n",
      "2017-12-30T06:56:00.000Z\n",
      "2017-12-30T07:56:00.000Z\n",
      "2017-12-30T08:56:00.000Z\n",
      "2017-12-30T09:56:00.000Z\n",
      "2017-12-30T10:56:00.000Z\n",
      "2017-12-30T11:56:00.000Z\n",
      "2017-12-30T12:56:00.000Z\n",
      "2017-12-30T13:56:00.000Z\n",
      "2017-12-30T14:56:00.000Z\n",
      "2017-12-30T15:56:00.000Z\n",
      "2017-12-30T16:56:00.000Z\n",
      "2017-12-30T17:56:00.000Z\n",
      "2017-12-30T18:56:00.000Z\n",
      "2017-12-30T19:56:00.000Z\n",
      "2017-12-30T20:56:00.000Z\n",
      "2017-12-30T21:56:00.000Z\n",
      "2017-12-30T22:56:00.000Z\n",
      "2017-12-30T23:56:00.000Z\n"
     ]
    }
   ],
   "source": [
    "date_wu = []\n",
    "humidity_wu = []\n",
    "temp_wu = []\n",
    "pressure_wu = []\n",
    "precip_wu = []\n",
    "wind_speed_wu = []\n",
    "dewpt_wu = []\n",
    "wind_gust_wu = []\n",
    "wind_dir_wu = []\n",
    "vis_wu = []\n",
    "wind_chill_wu = []\n",
    "heat_index_wu = []\n",
    "conds_wu = []\n",
    "fog_wu = []\n",
    "rain_wu = []\n",
    "snow_wu = []\n",
    "hail_wu = []\n",
    "thunder_wu = []\n",
    "tornado_wu = []\n",
    "\n",
    "#for single_date in daterange(STARTDATE,ENDDATE):\n",
    "conditions = get_conditions(STARTDATE.strftime(\"%Y%m%d\"))\n",
    "\n",
    "if (conditions != False):\n",
    "    for i in range(len(conditions['history']['observations'])):\n",
    "        dateInfo = conditions['history']['observations'][i]['date']\n",
    "        date = dateInfo['year'] + \"-\" + dateInfo['mon'] + \"-\" + dateInfo['mday'] + \"T\" + dateInfo['hour'] + \":\" +dateInfo['min'] + \":00.000Z\"\n",
    "        print(date)\n",
    "        #date = dateInfo['mday']+\".\"+dateInfo['mon']+\".\"+dateInfo['year']+\" \"+dateInfo['hour']+\":\"+dateInfo['min']+\":00\"\n",
    "        date_wu.append(date)\n",
    "        pattern = '%Y-%m-%dT%H:%M:00.000Z'\n",
    "        #pattern = '%d.%m.%Y %H:%M:%S'\n",
    "        epoch = int(time.mktime(time.strptime(date, pattern)))\n",
    "        #print(conditions['history']['observations'][i]['hum'])\n",
    "        \n",
    "        humidity_wu.append(conditions['history']['observations'][i]['hum'])\n",
    "        temp_wu.append(conditions['history']['observations'][i]['tempi'])\n",
    "        pressure_wu.append(conditions['history']['observations'][i]['pressurem'])\n",
    "        precip_wu.append(conditions['history']['observations'][i]['precipi'])\n",
    "        wind_speed_wu.append(conditions['history']['observations'][i]['wspdi'])\n",
    "        #dewpt_wu = conditions['history']['observations'][i]['dewpti']\n",
    "        #wind_gust_wu = conditions['history']['observations'][i]['wgusti']\n",
    "        #wind_dir_wu = conditions['history']['observations'][i]['wdird']\n",
    "        #vis_wu = conditions['history']['observations'][i]['visi']\n",
    "        #wind_chill_wu = conditions['history']['observations'][i]['windchilli']\n",
    "        #heat_index_wu = conditions['history']['observations'][i]['heatindexi']\n",
    "        #conds_wu = conditions['history']['observations'][i]['conds']\n",
    "        #fog_wu = conditions['history']['observations'][i]['fog']\n",
    "        #rain_wu = conditions['history']['observations'][i]['rain']\n",
    "        #snow_wu = conditions['history']['observations'][i]['snow']\n",
    "        #hail_wu = conditions['history']['observations'][i]['hail']\n",
    "        #thunder_wu = conditions['history']['observations'][i]['thunder']\n",
    "        #tornado_wu = conditions['history']['observations'][i]['tornado']\n",
    "        \n",
    "painting_df = pd.DataFrame({\n",
    "    \"Date\":date_wu,\n",
    "    \"Humidity\":humidity_wu,\n",
    "    \"Temp\":temp_wu,\n",
    "    \"Pressure\":pressure_wu\n",
    "    #{\"Painting\":\"Starving Artist\", \"Price\":10, \"Popularity\":\"Average\"},\n",
    "    #{\"Painting\":\"Toddler Drawing\", \"Price\":1, \"Popularity\":\"Not Popular\"}\n",
    "})"
   ]
  },
  {
   "cell_type": "code",
   "execution_count": 121,
   "metadata": {},
   "outputs": [
    {
     "data": {
      "text/html": [
       "<div>\n",
       "<style>\n",
       "    .dataframe thead tr:only-child th {\n",
       "        text-align: right;\n",
       "    }\n",
       "\n",
       "    .dataframe thead th {\n",
       "        text-align: left;\n",
       "    }\n",
       "\n",
       "    .dataframe tbody tr th {\n",
       "        vertical-align: top;\n",
       "    }\n",
       "</style>\n",
       "<table border=\"1\" class=\"dataframe\">\n",
       "  <thead>\n",
       "    <tr style=\"text-align: right;\">\n",
       "      <th></th>\n",
       "      <th>Date</th>\n",
       "      <th>Humidity</th>\n",
       "      <th>Pressure</th>\n",
       "      <th>Temp</th>\n",
       "    </tr>\n",
       "  </thead>\n",
       "  <tbody>\n",
       "    <tr>\n",
       "      <th>0</th>\n",
       "      <td>2017-12-30T00:56:000.Z</td>\n",
       "      <td>83</td>\n",
       "      <td>1020.4</td>\n",
       "      <td>48.0</td>\n",
       "    </tr>\n",
       "    <tr>\n",
       "      <th>1</th>\n",
       "      <td>2017-12-30T01:56:000.Z</td>\n",
       "      <td>86</td>\n",
       "      <td>1020.7</td>\n",
       "      <td>50.0</td>\n",
       "    </tr>\n",
       "    <tr>\n",
       "      <th>2</th>\n",
       "      <td>2017-12-30T02:56:000.Z</td>\n",
       "      <td>86</td>\n",
       "      <td>1020.6</td>\n",
       "      <td>50.0</td>\n",
       "    </tr>\n",
       "    <tr>\n",
       "      <th>3</th>\n",
       "      <td>2017-12-30T03:56:000.Z</td>\n",
       "      <td>93</td>\n",
       "      <td>1020.2</td>\n",
       "      <td>45.0</td>\n",
       "    </tr>\n",
       "    <tr>\n",
       "      <th>4</th>\n",
       "      <td>2017-12-30T04:56:000.Z</td>\n",
       "      <td>90</td>\n",
       "      <td>1019.9</td>\n",
       "      <td>46.9</td>\n",
       "    </tr>\n",
       "  </tbody>\n",
       "</table>\n",
       "</div>"
      ],
      "text/plain": [
       "                     Date Humidity Pressure  Temp\n",
       "0  2017-12-30T00:56:000.Z       83   1020.4  48.0\n",
       "1  2017-12-30T01:56:000.Z       86   1020.7  50.0\n",
       "2  2017-12-30T02:56:000.Z       86   1020.6  50.0\n",
       "3  2017-12-30T03:56:000.Z       93   1020.2  45.0\n",
       "4  2017-12-30T04:56:000.Z       90   1019.9  46.9"
      ]
     },
     "execution_count": 121,
     "metadata": {},
     "output_type": "execute_result"
    }
   ],
   "source": [
    "painting_df.head()"
   ]
  },
  {
   "cell_type": "code",
   "execution_count": 90,
   "metadata": {},
   "outputs": [
    {
     "name": "stdout",
     "output_type": "stream",
     "text": [
      "30.12.2017 00:56:00\n"
     ]
    }
   ],
   "source": [
    "print(painting_df[\"Date\"][0])"
   ]
  },
  {
   "cell_type": "code",
   "execution_count": 138,
   "metadata": {},
   "outputs": [
    {
     "data": {
      "text/plain": [
       "['2017-12-30T00:56:00.000Z',\n",
       " '2017-12-30T01:56:00.000Z',\n",
       " '2017-12-30T02:56:00.000Z',\n",
       " '2017-12-30T03:56:00.000Z',\n",
       " '2017-12-30T04:56:00.000Z',\n",
       " '2017-12-30T05:56:00.000Z',\n",
       " '2017-12-30T06:56:00.000Z',\n",
       " '2017-12-30T07:56:00.000Z',\n",
       " '2017-12-30T08:56:00.000Z',\n",
       " '2017-12-30T09:56:00.000Z',\n",
       " '2017-12-30T10:56:00.000Z',\n",
       " '2017-12-30T11:56:00.000Z',\n",
       " '2017-12-30T12:56:00.000Z',\n",
       " '2017-12-30T13:56:00.000Z',\n",
       " '2017-12-30T14:56:00.000Z',\n",
       " '2017-12-30T15:56:00.000Z',\n",
       " '2017-12-30T16:56:00.000Z',\n",
       " '2017-12-30T17:56:00.000Z',\n",
       " '2017-12-30T18:56:00.000Z',\n",
       " '2017-12-30T19:56:00.000Z',\n",
       " '2017-12-30T20:56:00.000Z',\n",
       " '2017-12-30T21:56:00.000Z',\n",
       " '2017-12-30T22:56:00.000Z',\n",
       " '2017-12-30T23:56:00.000Z']"
      ]
     },
     "execution_count": 138,
     "metadata": {},
     "output_type": "execute_result"
    }
   ],
   "source": [
    "date_wu"
   ]
  },
  {
   "cell_type": "code",
   "execution_count": null,
   "metadata": {
    "collapsed": true
   },
   "outputs": [],
   "source": []
  },
  {
   "cell_type": "code",
   "execution_count": 139,
   "metadata": {
    "collapsed": true
   },
   "outputs": [],
   "source": [
    "received_time = \"2018-01-01T17:52:00.000Z\""
   ]
  },
  {
   "cell_type": "code",
   "execution_count": 148,
   "metadata": {},
   "outputs": [
    {
     "name": "stdout",
     "output_type": "stream",
     "text": [
      "2017-12-30 23:56:00\n"
     ]
    }
   ],
   "source": [
    "rec_time = datetime.strptime(received_time, '%Y-%m-%dT%H:%M:00.000Z')\n",
    "closest_time = rec_time\n",
    "min_diff = 99999999999\n",
    "\n",
    "\n",
    "converted_timestamps = []\n",
    "for raw_time in date_wu:\n",
    "    # https://docs.python.org/3/library/datetime.html#strftime-and-strptime-behavior\n",
    "    # http://strftime.org/\n",
    "    converted_time = datetime.strptime(raw_time, '%Y-%m-%dT%H:%M:00.000Z')\n",
    "    converted_timestamps.append(converted_time)\n",
    "    diff = rec_time - converted_time\n",
    "    if diff.seconds < min_diff:\n",
    "        closest_time = converted_time\n",
    "        \n",
    "print(closest_time)"
   ]
  },
  {
   "cell_type": "code",
   "execution_count": 143,
   "metadata": {},
   "outputs": [
    {
     "name": "stdout",
     "output_type": "stream",
     "text": [
      "Time difference:  1 day, 17:56:00\n",
      "seconds: 64560\n"
     ]
    }
   ],
   "source": [
    "diff = rec_time - converted_timestamps[0]\n",
    "print(\"Time difference: \", diff)\n",
    "print('seconds: {}'.format(diff.seconds))"
   ]
  },
  {
   "cell_type": "code",
   "execution_count": 142,
   "metadata": {},
   "outputs": [],
   "source": [
    "converted_timestamps = []\n",
    "i = len(painting_df)-1\n",
    "\n",
    "for raw_time in painting_df[\"Date\"]:\n",
    "    # https://docs.python.org/3/library/datetime.html#strftime-and-strptime-behavior\n",
    "    # http://strftime.org/\n",
    "    \n",
    "    #converted_time = datetime.strptime(raw_time, \"%a %b %d %H:%M:%S %z %Y\")\n",
    "    converted_timestamps.append(converted_time)"
   ]
  },
  {
   "cell_type": "code",
   "execution_count": 6,
   "metadata": {},
   "outputs": [
    {
     "ename": "NameError",
     "evalue": "name 'readDate' is not defined",
     "output_type": "error",
     "traceback": [
      "\u001b[1;31m---------------------------------------------------------------------------\u001b[0m",
      "\u001b[1;31mNameError\u001b[0m                                 Traceback (most recent call last)",
      "\u001b[1;32m<ipython-input-6-256afa765922>\u001b[0m in \u001b[0;36m<module>\u001b[1;34m()\u001b[0m\n\u001b[1;32m----> 1\u001b[1;33m \u001b[0mapi_conditions_url\u001b[0m \u001b[1;33m=\u001b[0m \u001b[1;34m\"http://api.wunderground.com/api/\"\u001b[0m \u001b[1;33m+\u001b[0m \u001b[0mWUNDERGROUND_API_KEY\u001b[0m \u001b[1;33m+\u001b[0m \u001b[1;34m\"/history_\"\u001b[0m \u001b[1;33m+\u001b[0m \u001b[0mreadDate\u001b[0m \u001b[1;33m+\u001b[0m \u001b[1;34m\"/q/\"\u001b[0m \u001b[1;33m+\u001b[0m \u001b[0mSTATE\u001b[0m \u001b[1;33m+\u001b[0m\u001b[1;34m\"/\"\u001b[0m\u001b[1;33m+\u001b[0m \u001b[0mCITY\u001b[0m \u001b[1;33m+\u001b[0m \u001b[1;34m\".json\"\u001b[0m\u001b[1;33m\u001b[0m\u001b[0m\n\u001b[0m",
      "\u001b[1;31mNameError\u001b[0m: name 'readDate' is not defined"
     ]
    }
   ],
   "source": [
    "api_conditions_url = \"http://api.wunderground.com/api/\" + WUNDERGROUND_API_KEY + \"/history_\" + readDate + \"/q/\" + STATE +\"/\"+ CITY + \".json\""
   ]
  },
  {
   "cell_type": "code",
   "execution_count": null,
   "metadata": {
    "collapsed": true
   },
   "outputs": [],
   "source": [
    "\n",
    "# --------- User Settings ---------\n",
    "\n",
    "# ---------------------------------\n",
    "\n",
    "def isFloat(string):\n",
    "    try:\n",
    "        float(string)\n",
    "        if float(string) < 0:\n",
    "        \traise ValueError\n",
    "        return True\n",
    "    except ValueError:\n",
    "        return False\n",
    "\n",
    "def daterange(start_date, end_date):\n",
    "    for n in range(int((end_date - start_date).days)):\n",
    "        yield start_date + timedelta(n)\n",
    "\n",
    "\n",
    "\n",
    "streamer = Streamer(bucket_name=BUCKET_NAME, bucket_key=BUCKET_KEY, access_key=ACCESS_KEY)\n",
    "\n",
    "\n",
    "while True:\n",
    "\tfor single_date in daterange(STARTDATE,ENDDATE):\n",
    "\t\tconditions = get_conditions(single_date.strftime(\"%Y%m%d\"))\n",
    "\n",
    "\t\tif (conditions != False):\n",
    "\t\t\tfor i in range(len(conditions['history']['observations'])):\n",
    "\t\t\t\tdateInfo = conditions['history']['observations'][i]['date']\n",
    "\t\t\t\tdate = dateInfo['mday']+\".\"+dateInfo['mon']+\".\"+dateInfo['year']+\" \"+dateInfo['hour']+\":\"+dateInfo['min']+\":00\"\n",
    "\t\t\t\tprint date\n",
    "\t\t\t\tpattern = '%d.%m.%Y %H:%M:%S'\n",
    "\t\t\t\tepoch = int(time.mktime(time.strptime(date, pattern)))\n",
    "\n",
    "\t\t\t\thumidity_wu = conditions['history']['observations'][i]['hum']\n",
    "\t\t\t\ttemp_wu = conditions['history']['observations'][i]['tempi']\n",
    "\t\t\t\tpressure_wu = conditions['history']['observations'][i]['pressurem']\n",
    "\t\t\t\tprecip_wu = conditions['history']['observations'][i]['precipi']\n",
    "\t\t\t\twind_speed_wu = conditions['history']['observations'][i]['wspdi']\n",
    "\t\t\t\t# dewpt_wu = conditions['history']['observations'][i]['dewpti']\n",
    "\t\t\t\t# wind_gust_wu = conditions['history']['observations'][i]['wgusti']\n",
    "\t\t\t\t# wind_dir_wu = conditions['history']['observations'][i]['wdird']\n",
    "\t\t\t\t# vis_wu = conditions['history']['observations'][i]['visi']\n",
    "\t\t\t\t# wind_chill_wu = conditions['history']['observations'][i]['windchilli']\n",
    "\t\t\t\t# heat_index_wu = conditions['history']['observations'][i]['heatindexi']\n",
    "\t\t\t\t# conds_wu = conditions['history']['observations'][i]['conds']\n",
    "\t\t\t\t# fog_wu = conditions['history']['observations'][i]['fog']\n",
    "\t\t\t\t# rain_wu = conditions['history']['observations'][i]['rain']\n",
    "\t\t\t\t# snow_wu = conditions['history']['observations'][i]['snow']\n",
    "\t\t\t\t# hail_wu = conditions['history']['observations'][i]['hail']\n",
    "\t\t\t\t# thunder_wu = conditions['history']['observations'][i]['thunder']\n",
    "\t\t\t\t# tornado_wu = conditions['history']['observations'][i]['tornado']\n",
    "\n",
    "\t\t\t\tif isFloat(humidity_wu):\n",
    "\t\t\t\t\tstreamer.log(\"WU Humidity (%)\",humidity_wu,epoch)\n",
    "\t\t\t\tif isFloat(temp_wu):\n",
    "\t\t\t\t\tstreamer.log(\"WU Temp\",temp_wu,epoch)\n",
    "\t\t\t\tif isFloat(pressure_wu):\n",
    "\t\t\t\t\tstreamer.log(\"WU Pressure\",pressure_wu,epoch)\n",
    "\t\t\t\tif isFloat(precip_wu):\n",
    "\t\t\t\t\tstreamer.log(\"WU Rain\",precip_wu,epoch)\n",
    "\t\t\t\tif isFloat(wind_speed_wu):\n",
    "\t\t\t\t\tstreamer.log(\"WU Wind Speed\",wind_speed_wu,epoch)\n",
    "\t\t\t\t# if isFloat(dewpt_wu):\n",
    "\t\t\t\t# \tstreamer.log(\"WU Dew Point\",dewpt_wu,epoch)\n",
    "\t\t\t\t# if isFloat(wind_gust_wu):\n",
    "\t\t\t\t# \tstreamer.log(\"WU Wind Gust\",wind_gust_wu,epoch)\n",
    "\t\t\t\t# if isFloat(wind_dir_wu):\n",
    "\t\t\t\t# \tstreamer.log(\"WU Wind Direction\",wind_dir_wu,epoch)\n",
    "\t\t\t\t# if isFloat(vis_wu):\n",
    "\t\t\t\t# \tstreamer.log(\"WU Visibility\",vis_wu,epoch)\n",
    "\t\t\t\t# if isFloat(wind_chill_wu):\n",
    "\t\t\t\t# \tstreamer.log(\"WU Wind Chill\",wind_chill_wu,epoch)\n",
    "\t\t\t\t# if isFloat(heat_index_wu):\n",
    "\t\t\t\t# \tstreamer.log(\"WU Heat Index\",heat_index_wu,epoch)\n",
    "\t\t\t\t# if isFloat(conds_wu):\n",
    "\t\t\t\t# \tstreamer.log(\"WU Conditions\",conds_wu,epoch)\n",
    "\t\t\t\t# if isFloat(fog_wu):\n",
    "\t\t\t\t# \tstreamer.log(\"WU Fog\",fog_wu,epoch)\n",
    "\t\t\t\t# if isFloat(rain_wu):\n",
    "\t\t\t\t# \tstreamer.log(\"WU Rain\",rain_wu,epoch)\n",
    "\t\t\t\t# if isFloat(snow_wu):\n",
    "\t\t\t\t# \tstreamer.log(\"WU Snow\",snow_wu,epoch)\n",
    "\t\t\t\t# if isFloat(hail_wu):\n",
    "\t\t\t\t# \tstreamer.log(\"WU Hail\",hail_wu,epoch)\n",
    "\t\t\t\t# if isFloat(thunder_wu):\n",
    "\t\t\t\t# \tstreamer.log(\"WU Thunder\",thunder_wu,epoch)\n",
    "\t\t\t\t# if isFloat(tornado_wu):\n",
    "\t\t\t\t# \tstreamer.log(\"WU Tornado\",tornado_wu,epoch)\n",
    "\n",
    "\t\t\t\tstreamer.flush()\n",
    "\t\t\t\ttime.sleep(SECONDS_BETWEEN_SEND)\n",
    "\n",
    "\t\t\tif single_date == ENDDATE:\n",
    "\t\t\t\tprint(\"All dates streamed\")\n",
    "\t\t\t\texit()"
   ]
  }
 ],
 "metadata": {
  "kernelspec": {
   "display_name": "Python 3",
   "language": "python",
   "name": "python3"
  },
  "language_info": {
   "codemirror_mode": {
    "name": "ipython",
    "version": 3
   },
   "file_extension": ".py",
   "mimetype": "text/x-python",
   "name": "python",
   "nbconvert_exporter": "python",
   "pygments_lexer": "ipython3",
   "version": "3.6.3"
  }
 },
 "nbformat": 4,
 "nbformat_minor": 2
}
